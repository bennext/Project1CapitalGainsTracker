{
 "cells": [
  {
   "cell_type": "code",
   "execution_count": 5,
   "metadata": {},
   "outputs": [
    {
     "name": "stdout",
     "output_type": "stream",
     "text": [
      "e\n",
      "A\n",
      "qwere is ['A']\n",
      "B\n",
      "A\n",
      "ewretg is ['B', 'A']\n",
      "asdf is B\n",
      "asdf is A\n",
      "Q\n",
      "U\n",
      "G\n",
      "B\n",
      "A\n",
      "added 3 \n",
      "asdf is Q\n",
      "asdf is U\n",
      "asdf is G\n",
      "asdf is B\n",
      "asdf is A\n",
      "don test\n"
     ]
    }
   ],
   "source": [
    "print (\"e\")\n",
    "from ledger_entry import LedgerEntry\n",
    "\n",
    "testA = LedgerEntry(\"AAA\")\n",
    "\n",
    "stringA = \"A\"\n",
    "\n",
    "testA.add_purchase(stringA)\n",
    "\n",
    "qwere= testA.display_entry()\n",
    "\n",
    "print (\"qwere is\", qwere) \n",
    "\n",
    "testA.add_purchase(\"B\")\n",
    "\n",
    "ewretg = testA.display_entry()\n",
    "\n",
    "print(\"ewretg is\", ewretg)\n",
    "\n",
    "for asdf in ewretg:\n",
    "    print (\"asdf is\", asdf)\n",
    "\n",
    "\n",
    "\n",
    "testA.add_purchase(\"G\")\n",
    "testA.add_purchase(\"U\")\n",
    "testA.add_purchase(\"Q\")\n",
    "ewretg = testA.display_entry()\n",
    "print(\"added 3 \")\n",
    "\n",
    "for asdf in ewretg:\n",
    "    print (\"asdf is\", asdf)\n",
    "\n",
    "print (\"don test\")"
   ]
  },
  {
   "cell_type": "code",
   "execution_count": 6,
   "metadata": {},
   "outputs": [
    {
     "name": "stdout",
     "output_type": "stream",
     "text": [
      "test 2\n",
      "sto is BBB 567\n",
      "<stock_purchase.StockPurchase object at 0x000002037F79EDB0>\n",
      "[<stock_purchase.StockPurchase object at 0x000002037F79EDB0>]  is qaz\n",
      "<stock_purchase.StockPurchase object at 0x000002037F79E990>\n",
      "<stock_purchase.StockPurchase object at 0x000002037F79FCE0>\n",
      "<stock_purchase.StockPurchase object at 0x000002037F79E720>\n",
      "<stock_purchase.StockPurchase object at 0x000002037F79EC60>\n",
      "<stock_purchase.StockPurchase object at 0x000002037F79EDB0>\n",
      "[<stock_purchase.StockPurchase object at 0x000002037F79E990>, <stock_purchase.StockPurchase object at 0x000002037F79FCE0>, <stock_purchase.StockPurchase object at 0x000002037F79E720>, <stock_purchase.StockPurchase object at 0x000002037F79EC60>, <stock_purchase.StockPurchase object at 0x000002037F79EDB0>]  is qaz\n",
      "fhd 437\n",
      "rth 5464\n",
      "sdf 35\n",
      "dsg 3435\n",
      "BBB 567\n",
      "test done\n"
     ]
    }
   ],
   "source": [
    "print(\"test 2\")\n",
    "\n",
    "from stock_purchase import StockPurchase\n",
    "\n",
    "sto = StockPurchase(\"BBB\", 567)\n",
    "\n",
    "print(\"sto is\" , sto.stock_symbol, sto.cost_per_share)\n",
    "\n",
    "hjk = LedgerEntry(\"BBB\")\n",
    "\n",
    "hjk.add_purchase(sto)\n",
    "\n",
    "qaz = hjk.display_entry()\n",
    "\n",
    "print (qaz , \" is qaz\")\n",
    "egw = StockPurchase(\"dsg\", 3435)\n",
    "hjk.add_purchase(egw)\n",
    "hjk.add_purchase(StockPurchase(\"sdf\", 35))\n",
    "hjk.add_purchase(StockPurchase(\"rth\", 5464))\n",
    "hjk.add_purchase(StockPurchase(\"fhd\", 437))\n",
    "qaz = hjk.display_entry()\n",
    "print (qaz , \" is qaz\")\n",
    "for az in qaz:\n",
    "    print (az.stock_symbol, az.cost_per_share)\n",
    "\n",
    "print(\"test done\")\n"
   ]
  }
 ],
 "metadata": {
  "kernelspec": {
   "display_name": "base",
   "language": "python",
   "name": "python3"
  },
  "language_info": {
   "codemirror_mode": {
    "name": "ipython",
    "version": 3
   },
   "file_extension": ".py",
   "mimetype": "text/x-python",
   "name": "python",
   "nbconvert_exporter": "python",
   "pygments_lexer": "ipython3",
   "version": "3.12.4"
  }
 },
 "nbformat": 4,
 "nbformat_minor": 2
}
