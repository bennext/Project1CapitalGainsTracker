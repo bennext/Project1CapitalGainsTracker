{
 "cells": [
  {
   "cell_type": "code",
   "execution_count": 22,
   "metadata": {},
   "outputs": [
    {
     "name": "stdout",
     "output_type": "stream",
     "text": [
      "start test\n",
      "A\n",
      "stock purchase class test\n",
      "NNN 1\n",
      "LinkedDeque class testing\n",
      "BBB 55\n",
      "AAA 2\n",
      "C\n",
      "B\n",
      "display\n",
      "['C', 'A', 'B']\n",
      "display\n",
      "False\n",
      "True\n",
      "ledger entry testing\n",
      "[<stock_purchase.StockPurchase object at 0x000001A4C806E990>, <stock_purchase.StockPurchase object at 0x000001A4C7DA6A50>]\n",
      "End test\n"
     ]
    }
   ],
   "source": [
    "from linked_deque import LinkedDeque\n",
    "from ledger_entry import LedgerEntry \n",
    "from stock_purchase import StockPurchase\n",
    "from stock_ledger import StockLedger\n",
    "\n",
    "\n",
    "    \n",
    "    #### testing\n",
    "print(\"start test\")\n",
    "\n",
    "test_deck = LinkedDeque()\n",
    "test_deck.add_to_back(\"A\")\n",
    "print(test_deck.get_front().data)\n",
    "\n",
    "######\n",
    "print (\"stock purchase class test\")\n",
    "\n",
    "test_stock = StockPurchase(\"NNN\", 1)\n",
    "    \n",
    "print(test_stock.stock_symbol, test_stock.cost_per_share)   \n",
    "###########\n",
    "\n",
    "print(\"LinkedDeque class testing\")\n",
    "\n",
    "test_deque = LinkedDeque()\n",
    "\n",
    "test_deque.add_to_front(test_stock)\n",
    "\n",
    "stock2 = StockPurchase(\"AAA\", 2)\n",
    "stock3 = StockPurchase(\"BBB\", 55)\n",
    "\n",
    "test_deque.add_to_front(stock2)\n",
    "test_deque.add_to_back(stock3)\n",
    "\n",
    "print(test_deque.get_back().data.stock_symbol, test_deque.get_back().data.cost_per_share)\n",
    "print(test_deque.get_front().data.stock_symbol, test_deque.get_front().data.cost_per_share)\n",
    "\n",
    "letterDeqk = LinkedDeque()\n",
    "\n",
    "letterDeqk.add_to_back(\"A\")\n",
    "letterDeqk.add_to_back(\"B\")\n",
    "letterDeqk.add_to_front(\"C\")\n",
    "\n",
    "print(letterDeqk.get_front().data)\n",
    "print(letterDeqk.get_back().data)\n",
    "test_deque.display()\n",
    "\n",
    "print(\"display\")\n",
    "display_of_letterdeqk = letterDeqk.display() \n",
    "print(display_of_letterdeqk)\n",
    "print(\"display\")\n",
    "# for anelement in letterDeqk.display():\n",
    "#     print(anelement)\n",
    "\n",
    "\n",
    "print(letterDeqk.is_empty())\n",
    "letterDeqk.clear()\n",
    "print(letterDeqk.is_empty())\n",
    " \n",
    "\n",
    "#############\n",
    "\n",
    "print(\"ledger entry testing\")\n",
    "\n",
    "##\n",
    "##    __init__(self, stock_symbol)\n",
    "#    add_purchase(self, new_purchase)\n",
    "#    remove_purchase(self)\n",
    "#    equals(self, other)\n",
    "#    display_entry(self) \n",
    "##   \n",
    "\n",
    "the_le = LedgerEntry(\"NNN\")\n",
    "the_le.add_purchase(test_stock)\n",
    "\n",
    "#the_le.remove_purchase()\n",
    "test_stock_2 = StockPurchase(\"NNN\", 3456)\n",
    "the_le.add_purchase(test_stock_2)\n",
    "display_of_the_le = the_le.display_entry()\n",
    "print (display_of_the_le)\n",
    "#print (len(display_of_the_le))\n",
    "\n",
    "\n",
    "print(\"End test\")"
   ]
  },
  {
   "cell_type": "markdown",
   "metadata": {},
   "source": [
    "a mark down seperating some tests"
   ]
  },
  {
   "cell_type": "code",
   "execution_count": 23,
   "metadata": {},
   "outputs": [
    {
     "name": "stdout",
     "output_type": "stream",
     "text": [
      "NNN 3456\n",
      "JYT 4853\n",
      "HED 34346\n",
      "WGE 5447\n",
      "FSF 4366346\n",
      "NNN 1\n"
     ]
    }
   ],
   "source": [
    "the_le = LedgerEntry(\"NNN\")\n",
    "the_le.add_purchase(test_stock)\n",
    "the_le.add_purchase(StockPurchase(\"FSF\", 4366346))\n",
    "the_le.add_purchase(StockPurchase(\"WGE\", 5447))\n",
    "the_le.add_purchase(StockPurchase(\"HED\", 34346))\n",
    "the_le.add_purchase(StockPurchase(\"JYT\", 4853))\n",
    "the_le.add_purchase(StockPurchase(\"BWF\", 344))\n",
    "the_le.remove_purchase()\n",
    "test_stock_2 = StockPurchase(\"NNN\", 3456)\n",
    "the_le.add_purchase(test_stock_2)\n",
    "display_of_the_le = the_le.display_entry()\n",
    "#print (display_of_the_le)\n",
    "for i in display_of_the_le:\n",
    "    print (i.stock_symbol, i.cost_per_share)"
   ]
  },
  {
   "cell_type": "markdown",
   "metadata": {},
   "source": [
    "new stock ledger code testing"
   ]
  },
  {
   "cell_type": "code",
   "execution_count": 24,
   "metadata": {},
   "outputs": [
    {
     "name": "stdout",
     "output_type": "stream",
     "text": [
      "ledger stock testing \n",
      "disp_of_s_l : [[<stock_purchase.StockPurchase object at 0x000001A4C806EE40>], [<stock_purchase.StockPurchase object at 0x000001A4C7DFE0C0>]]\n",
      "disp_of_s_l : ZZZ disp_of_s_l : 100\n",
      "sold\n",
      "disp_of_s_l : ZZZ disp_of_s_l : 123\n",
      "True\n",
      "False\n",
      "<ledger_entry.LedgerEntry object at 0x000001A4C7DFDEB0>\n",
      "ZZZ 123\n",
      "end test\n"
     ]
    }
   ],
   "source": [
    "print(\"ledger stock testing \")\n",
    "##\n",
    "#       __init__(self)\n",
    "#     buy(self, stock_symbol, shares_bought, price_per_share)\n",
    "#     sell(self, stock_symbol, shares_sold, price_per_share)\n",
    "#     display_ledger(self)\n",
    "#     contains(self, stock_symbol)\n",
    "#     get_entry(self, stock_symbol)\n",
    "# #  \n",
    "\n",
    "\n",
    "s_l = StockLedger()\n",
    "\n",
    "s_l.buy(\"ZZZ\", 2, 100)\n",
    "s_l.buy(\"ZZZ\", 1, 123)\n",
    "disp_of_s_l = s_l.display_ledger()\n",
    "print(\"disp_of_s_l :\", disp_of_s_l)\n",
    "print(\"disp_of_s_l :\", disp_of_s_l[0][0].stock_symbol, \"disp_of_s_l :\", disp_of_s_l[0][0].cost_per_share)\n",
    "\n",
    "s_l.sell(\"ZZZ\", 2, 100)\n",
    "print (\"sold\")\n",
    "disp_of_s_l = s_l.display_ledger()\n",
    "print(\"disp_of_s_l :\", disp_of_s_l[0][0].stock_symbol, \"disp_of_s_l :\", disp_of_s_l[0][0].cost_per_share)\n",
    "\n",
    "\n",
    "print(s_l.contains(\"ZZZ\"))\n",
    "\n",
    "print(s_l.contains(\"AAA\"))\n",
    "\n",
    "print(s_l.get_entry(\"ZZZ\"))\n",
    "print( s_l.get_entry(\"ZZZ\").display_entry()[0].stock_symbol , s_l.get_entry(\"ZZZ\").display_entry()[0].cost_per_share )\n",
    "\n",
    "print(\"end test\")"
   ]
  }
 ],
 "metadata": {
  "kernelspec": {
   "display_name": "base",
   "language": "python",
   "name": "python3"
  },
  "language_info": {
   "codemirror_mode": {
    "name": "ipython",
    "version": 3
   },
   "file_extension": ".py",
   "mimetype": "text/x-python",
   "name": "python",
   "nbconvert_exporter": "python",
   "pygments_lexer": "ipython3",
   "version": "3.12.4"
  }
 },
 "nbformat": 4,
 "nbformat_minor": 2
}
